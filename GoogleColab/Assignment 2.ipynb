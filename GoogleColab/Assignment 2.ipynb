{
  "nbformat": 4,
  "nbformat_minor": 0,
  "metadata": {
    "colab": {
      "provenance": []
    },
    "kernelspec": {
      "name": "python3",
      "display_name": "Python 3"
    },
    "language_info": {
      "name": "python"
    }
  },
  "cells": [
    {
      "cell_type": "code",
      "execution_count": 740,
      "metadata": {
        "colab": {
          "base_uri": "https://localhost:8080/"
        },
        "id": "eW6zDPKNOBYt",
        "outputId": "74a37fdc-bb95-43c8-8947-0cad22cce684"
      },
      "outputs": [
        {
          "output_type": "stream",
          "name": "stdout",
          "text": [
            "Overwriting Openmp.c\n"
          ]
        }
      ],
      "source": [
        "%%writefile Openmp.c\n",
        "#include <stdio.h>\n",
        "#include <stdlib.h>\n",
        "#include <omp.h>\n",
        "#include <time.h>\n",
        "\n",
        "#define N 100000\n",
        "#define M 10\n",
        "#define K 128\n",
        "void bucket_sort_parallel(int arr[], int n);\n",
        "void insert_into_bucket(int arr[], int start, int end, int buckets[][N], int bucket_counts[], int range);\n",
        "void sort_buckets(int buckets[][N], int bucket_counts[], int start, int end);\n",
        "\n",
        "int main() {\n",
        "    int arr[N];\n",
        "     clock_t start, end;\n",
        "    double total_cpu_time_used = 0.0;\n",
        " for (int iter = 0; iter < 10; iter++) {\n",
        "  srand(42);\n",
        "    for (int i = 0; i < N; i++) {\n",
        "        arr[i] = rand() % 100;\n",
        "    }\n",
        "\n",
        "\n",
        "\n",
        "\n",
        "        start = clock();\n",
        "        bucket_sort_parallel(arr, N);\n",
        "        end = clock();\n",
        "\n",
        "        double cpu_time_used = ((double) (end - start)) / CLOCKS_PER_SEC;\n",
        "        total_cpu_time_used += cpu_time_used;\n",
        "\n",
        "        // Uncomment below lines to print the sorted array for each iteration\n",
        "        //for (int i = 0; i < N; i++) {\n",
        "             //printf(\"%d \", arr[i]);\n",
        "         //}\n",
        "         //printf(\"\\n\");\n",
        "\n",
        "        printf(\"Iteration %d: Time taken: %f seconds\\n\", iter+1, cpu_time_used);\n",
        "    }\n",
        "\n",
        "    printf(\"Average running time over 10 iterations: %f seconds\\n\", total_cpu_time_used / 10);\n",
        "\n",
        "    return 0;\n",
        "}\n",
        "\n",
        "void bucket_sort_parallel(int arr[], int n) {\n",
        "    int buckets[M][N] = {0};\n",
        "    int bucket_counts[M] = {0};\n",
        "    int range = 100 / M;\n",
        "\n",
        "\n",
        "    #pragma omp parallel num_threads(K)\n",
        "    {\n",
        "        int thread_id = omp_get_thread_num();\n",
        "        int items_per_thread = n / K;\n",
        "        int start = thread_id * items_per_thread;\n",
        "        int end = start + items_per_thread - 1;\n",
        "        if (thread_id == K - 1) end = n - 1;\n",
        "        insert_into_bucket(arr, start, end, buckets, bucket_counts, range);\n",
        "    }\n",
        "\n",
        "\n",
        "    #pragma omp parallel num_threads(K)\n",
        "    {\n",
        "        int thread_id = omp_get_thread_num();\n",
        "        int buckets_per_thread = M / K;\n",
        "        int start = thread_id * buckets_per_thread;\n",
        "        int end = start + buckets_per_thread - 1;\n",
        "        if (thread_id == K - 1) end = M - 1;\n",
        "        sort_buckets(buckets, bucket_counts, start, end);\n",
        "    }\n",
        "\n",
        "\n",
        "    int index = 0;\n",
        "    for (int i = 0; i < M; i++) {\n",
        "        for (int j = 0; j < bucket_counts[i]; j++) {\n",
        "            arr[index++] = buckets[i][j];\n",
        "        }\n",
        "    }\n",
        "}\n",
        "\n",
        "void insert_into_bucket(int arr[], int start, int end, int buckets[][N], int bucket_counts[], int range) {\n",
        "    for (int i = start; i <= end; i++) {\n",
        "        int bucket_index = arr[i] / range;\n",
        "        #pragma omp critical\n",
        "        {\n",
        "            buckets[bucket_index][bucket_counts[bucket_index]++] = arr[i];\n",
        "        }\n",
        "    }\n",
        "}\n",
        "\n",
        "void sort_buckets(int buckets[][N], int bucket_counts[], int start, int end) {\n",
        "    for (int i = start; i <= end; i++) {\n",
        "        if (bucket_counts[i] > 0) {\n",
        "\n",
        "            for (int j = 1; j < bucket_counts[i]; j++) {\n",
        "                int key = buckets[i][j];\n",
        "                int k = j - 1;\n",
        "                while (k >= 0 && buckets[i][k] > key) {\n",
        "                    buckets[i][k + 1] = buckets[i][k];\n",
        "                    k = k - 1;\n",
        "                }\n",
        "                buckets[i][k + 1] = key;\n",
        "            }\n",
        "        }\n",
        "    }\n",
        "}\n"
      ]
    },
    {
      "cell_type": "code",
      "source": [
        "!gcc -fopenmp Openmp.c -o Openmp"
      ],
      "metadata": {
        "id": "_kNK-X8NO6uq"
      },
      "execution_count": 741,
      "outputs": []
    },
    {
      "cell_type": "code",
      "source": [
        "!./Openmp\n",
        "\n"
      ],
      "metadata": {
        "id": "jFk9ePRYO6ot",
        "colab": {
          "base_uri": "https://localhost:8080/"
        },
        "outputId": "6cc47561-a4ed-4a02-a405-fd12a86f3b7b"
      },
      "execution_count": 742,
      "outputs": [
        {
          "output_type": "stream",
          "name": "stdout",
          "text": [
            "Iteration 1: Time taken: 0.763939 seconds\n",
            "Iteration 2: Time taken: 0.779748 seconds\n",
            "Iteration 3: Time taken: 0.771245 seconds\n",
            "Iteration 4: Time taken: 0.773546 seconds\n",
            "Iteration 5: Time taken: 0.995352 seconds\n",
            "Iteration 6: Time taken: 1.251320 seconds\n",
            "Iteration 7: Time taken: 0.924430 seconds\n",
            "Iteration 8: Time taken: 0.755531 seconds\n",
            "Iteration 9: Time taken: 0.760387 seconds\n",
            "Iteration 10: Time taken: 0.757021 seconds\n",
            "Average running time over 10 iterations: 0.853252 seconds\n"
          ]
        }
      ]
    },
    {
      "cell_type": "code",
      "source": [
        "%%writefile serial.c\n",
        "#include <stdio.h>\n",
        "#include <stdlib.h>\n",
        "#include <time.h>\n",
        "\n",
        "#define N 100000\n",
        "#define M 10\n",
        "\n",
        "void bucket_sort_serial(int arr[], int n);\n",
        "void insert_into_bucket(int arr[], int start, int end, int buckets[][N], int bucket_counts[], int range);\n",
        "void sort_buckets(int buckets[][N], int bucket_counts[], int start, int end);\n",
        "\n",
        "int main() {\n",
        "    int arr[N];\n",
        "  clock_t start, end;\n",
        "    double total_cpu_time_used = 0.0;\n",
        " for (int iter = 0; iter < 10; iter++) {\n",
        "   srand(42);\n",
        "    for (int i = 0; i < N; i++) {\n",
        "        arr[i] = rand() % 100; // Example: elements range from 0 to 99\n",
        "    }\n",
        "\n",
        "\n",
        "    start = clock();\n",
        "    bucket_sort_serial(arr, N);\n",
        "    end = clock();\n",
        "\n",
        "    double cpu_time_used = ((double) (end - start)) / CLOCKS_PER_SEC;\n",
        "        total_cpu_time_used += cpu_time_used;\n",
        "    // Print sorted array\n",
        "    //for (int i = 0; i < N; i++) {\n",
        "        //printf(\"%d \", arr[i]);\n",
        "    //}\n",
        "    //printf(\"\\n\");\n",
        " printf(\"Iteration %d: Time taken: %f seconds\\n\", iter+1, cpu_time_used);\n",
        "    }\n",
        "\n",
        "    printf(\"Average running time over 10 iterations: %f seconds\\n\", total_cpu_time_used / 10);\n",
        "\n",
        "    return 0;\n",
        "}\n",
        "\n",
        "void bucket_sort_serial(int arr[], int n) {\n",
        "    int buckets[M][N] = {0};\n",
        "    int bucket_counts[M] = {0};\n",
        "    int range = 100 / M;\n",
        "\n",
        "    // Distribute elements into buckets\n",
        "    insert_into_bucket(arr, 0, n - 1, buckets, bucket_counts, range);\n",
        "\n",
        "    // Sort each bucket\n",
        "    sort_buckets(buckets, bucket_counts, 0, M - 1);\n",
        "\n",
        "    // Merge buckets back to original array\n",
        "    int index = 0;\n",
        "    for (int i = 0; i < M; i++) {\n",
        "        for (int j = 0; j < bucket_counts[i]; j++) {\n",
        "            arr[index++] = buckets[i][j];\n",
        "        }\n",
        "    }\n",
        "}\n",
        "\n",
        "void insert_into_bucket(int arr[], int start, int end, int buckets[][N], int bucket_counts[], int range) {\n",
        "    for (int i = start; i <= end; i++) {\n",
        "        int bucket_index = arr[i] / range;\n",
        "        buckets[bucket_index][bucket_counts[bucket_index]++] = arr[i];\n",
        "    }\n",
        "}\n",
        "\n",
        "void sort_buckets(int buckets[][N], int bucket_counts[], int start, int end) {\n",
        "    for (int i = start; i <= end; i++) {\n",
        "        if (bucket_counts[i] > 0) {\n",
        "            // Simple insertion sort for demonstration\n",
        "            for (int j = 1; j < bucket_counts[i]; j++) {\n",
        "                int key = buckets[i][j];\n",
        "                int k = j - 1;\n",
        "                while (k >= 0 && buckets[i][k] > key) {\n",
        "                    buckets[i][k + 1] = buckets[i][k];\n",
        "                    k = k - 1;\n",
        "                }\n",
        "                buckets[i][k + 1] = key;\n",
        "            }\n",
        "        }\n",
        "    }\n",
        "}\n"
      ],
      "metadata": {
        "colab": {
          "base_uri": "https://localhost:8080/"
        },
        "id": "pZFSAkT_i1w0",
        "outputId": "d8ae56ee-0d56-4dc3-d548-6fd9351f66ea"
      },
      "execution_count": 743,
      "outputs": [
        {
          "output_type": "stream",
          "name": "stdout",
          "text": [
            "Overwriting serial.c\n"
          ]
        }
      ]
    },
    {
      "cell_type": "code",
      "source": [
        "!gcc serial.c -o serial"
      ],
      "metadata": {
        "id": "JnIjA9JSi1nL"
      },
      "execution_count": 744,
      "outputs": []
    },
    {
      "cell_type": "code",
      "source": [
        "!./serial"
      ],
      "metadata": {
        "id": "jMLRLXbOi1IR",
        "colab": {
          "base_uri": "https://localhost:8080/"
        },
        "outputId": "53ba9956-0340-4017-8341-8ac87f60cc39"
      },
      "execution_count": 745,
      "outputs": [
        {
          "output_type": "stream",
          "name": "stdout",
          "text": [
            "Iteration 1: Time taken: 0.764029 seconds\n",
            "Iteration 2: Time taken: 0.749883 seconds\n",
            "Iteration 3: Time taken: 0.941045 seconds\n",
            "Iteration 4: Time taken: 1.222779 seconds\n",
            "Iteration 5: Time taken: 0.999021 seconds\n",
            "Iteration 6: Time taken: 0.771160 seconds\n",
            "Iteration 7: Time taken: 0.758965 seconds\n",
            "Iteration 8: Time taken: 0.758664 seconds\n",
            "Iteration 9: Time taken: 0.755355 seconds\n",
            "Iteration 10: Time taken: 0.747728 seconds\n",
            "Average running time over 10 iterations: 0.846863 seconds\n"
          ]
        }
      ]
    },
    {
      "cell_type": "code",
      "source": [
        "%%writefile pthreads.c\n",
        "#include <stdio.h>\n",
        "#include <stdlib.h>\n",
        "#include <pthread.h>\n",
        "#include <time.h>\n",
        "\n",
        "#define N 100000\n",
        "#define M 10\n",
        "#define K 128\n",
        "#define RUNS 10 // Number of runs\n",
        "\n",
        "int arr[N];\n",
        "int buckets[M][N] = {0};\n",
        "int bucket_counts[M] = {0};\n",
        "int range = 100 / M;\n",
        "pthread_mutex_t lock[M];\n",
        "\n",
        "typedef struct {\n",
        "    int start;\n",
        "    int end;\n",
        "    int thread_id;\n",
        "} thread_data;\n",
        "\n",
        "void* insert_into_bucket(void* arg);\n",
        "void* sort_buckets(void* arg);\n",
        "\n",
        "int main() {\n",
        "    double total_time_used = 0.0; // For calculating the average time\n",
        "\n",
        "    for (int run = 0; run < RUNS; run++) { // Outer loop for multiple runs\n",
        "        srand(42 + run); // Vary the seed slightly for each run\n",
        "        for (int i = 0; i < N; i++) {\n",
        "            arr[i] = rand() % 100;\n",
        "        }\n",
        "\n",
        "        // Reset bucket counts for each run\n",
        "        for (int i = 0; i < M; i++) {\n",
        "            bucket_counts[i] = 0;\n",
        "        }\n",
        "\n",
        "        pthread_t threads[K];\n",
        "        thread_data t_data[K];\n",
        "        pthread_attr_t attr;\n",
        "        pthread_attr_init(&attr);\n",
        "\n",
        "        clock_t start, end;\n",
        "\n",
        "        start = clock();\n",
        "\n",
        "        // Initialize mutexes\n",
        "        for (int i = 0; i < M; i++) {\n",
        "            pthread_mutex_init(&lock[i], NULL);\n",
        "        }\n",
        "\n",
        "        // Creating threads for inserting into buckets\n",
        "        for (int i = 0; i < K; i++) {\n",
        "            t_data[i].start = i * (N / K);\n",
        "            t_data[i].end = (i + 1) * (N / K) - 1;\n",
        "            if (i == K - 1) t_data[i].end = N - 1; // Last thread may take more\n",
        "            t_data[i].thread_id = i;\n",
        "\n",
        "            pthread_create(&threads[i], &attr, insert_into_bucket, (void*)&t_data[i]);\n",
        "        }\n",
        "\n",
        "        // Joining threads after insertion\n",
        "        for (int i = 0; i < K; i++) {\n",
        "            pthread_join(threads[i], NULL);\n",
        "        }\n",
        "\n",
        "        // Creating threads for sorting buckets\n",
        "        for (int i = 0; i < K; i++) {\n",
        "            t_data[i].start = i * (M / K);\n",
        "            t_data[i].end = (i + 1) * (M / K) - 1;\n",
        "            if (i == K - 1) t_data[i].end = M - 1; // Last thread may take more\n",
        "\n",
        "            pthread_create(&threads[i], &attr, sort_buckets, (void*)&t_data[i]);\n",
        "        }\n",
        "\n",
        "        // Joining threads after sorting\n",
        "        for (int i = 0; i < K; i++) {\n",
        "            pthread_join(threads[i], NULL);\n",
        "        }\n",
        "\n",
        "        // Merge sorted buckets\n",
        "        int index = 0;\n",
        "        for (int i = 0; i < M; i++) {\n",
        "            for (int j = 0; j < bucket_counts[i]; j++) {\n",
        "                arr[index++] = buckets[i][j];\n",
        "            }\n",
        "        }\n",
        "\n",
        "        end = clock();\n",
        "\n",
        "        double cpu_time_used = ((double) (end - start)) / CLOCKS_PER_SEC;\n",
        "        total_time_used += cpu_time_used;\n",
        "\n",
        "        // Destroy mutexes\n",
        "        for (int i = 0; i < M; i++) {\n",
        "            pthread_mutex_destroy(&lock[i]);\n",
        "        }\n",
        "    }\n",
        "\n",
        "    double average_time = total_time_used / RUNS;\n",
        "    printf(\"Average time taken: %f seconds\\n\", average_time);\n",
        "\n",
        "    return 0;\n",
        "}\n",
        "\n",
        "void* insert_into_bucket(void* arg) {\n",
        "    thread_data* t_data = (thread_data*)arg;\n",
        "    int start = t_data->start;\n",
        "    int end = t_data->end;\n",
        "\n",
        "    for (int i = start; i <= end; i++) {\n",
        "        int bucket_index = arr[i] / range;\n",
        "        pthread_mutex_lock(&lock[bucket_index]);\n",
        "        buckets[bucket_index][bucket_counts[bucket_index]++] = arr[i];\n",
        "        pthread_mutex_unlock(&lock[bucket_index]);\n",
        "    }\n",
        "\n",
        "    pthread_exit(NULL);\n",
        "}\n",
        "\n",
        "void* sort_buckets(void* arg) {\n",
        "    thread_data* t_data = (thread_data*)arg;\n",
        "    int start = t_data->start;\n",
        "    int end = t_data->end;\n",
        "\n",
        "    for (int i = start; i <= end; i++) {\n",
        "        if (bucket_counts[i] > 0) {\n",
        "            // Insertion sort\n",
        "            for (int j = 1; j < bucket_counts[i]; j++) {\n",
        "                int key = buckets[i][j];\n",
        "                int k = j - 1;\n",
        "                while (k >= 0 && buckets[i][k] > key) {\n",
        "                    buckets[i][k + 1] = buckets[i][k];\n",
        "                    k = k - 1;\n",
        "                }\n",
        "                buckets[i][k + 1] = key;\n",
        "            }\n",
        "        }\n",
        "    }\n",
        "\n",
        "    pthread_exit(NULL);\n",
        "}\n"
      ],
      "metadata": {
        "colab": {
          "base_uri": "https://localhost:8080/"
        },
        "id": "jPuvkBak7lk7",
        "outputId": "3981469d-989b-4da8-af3d-381adad6aea5"
      },
      "execution_count": 776,
      "outputs": [
        {
          "output_type": "stream",
          "name": "stdout",
          "text": [
            "Overwriting pthreads.c\n"
          ]
        }
      ]
    },
    {
      "cell_type": "code",
      "source": [
        "!gcc pthreads.c -o threadprogram -lpthread"
      ],
      "metadata": {
        "id": "ejAVV7LF7lf8"
      },
      "execution_count": 777,
      "outputs": []
    },
    {
      "cell_type": "code",
      "source": [
        "!./threadprogram"
      ],
      "metadata": {
        "colab": {
          "base_uri": "https://localhost:8080/"
        },
        "id": "l6_ojrRI7lE_",
        "outputId": "8ce7a4b3-3f5e-4a13-8865-028d38d5039e"
      },
      "execution_count": 778,
      "outputs": [
        {
          "output_type": "stream",
          "name": "stdout",
          "text": [
            "Average time taken: 0.924749 seconds\n"
          ]
        }
      ]
    }
  ]
}